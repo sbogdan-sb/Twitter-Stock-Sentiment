{
 "cells": [
  {
   "cell_type": "code",
   "execution_count": 761,
   "metadata": {},
   "outputs": [],
   "source": [
    "import pandas as pd\n",
    "import numpy as np\n",
    "import random\n",
    "import io\n",
    "import pickle\n",
    "import twitter\n",
    "import nltk\n",
    "from nltk.classify import NaiveBayesClassifier\n",
    "import string"
   ]
  },
  {
   "cell_type": "markdown",
   "metadata": {},
   "source": [
    "Load lists of stock advancers/decliners into dataframes"
   ]
  },
  {
   "cell_type": "code",
   "execution_count": 86,
   "metadata": {
    "scrolled": true
   },
   "outputs": [
    {
     "data": {
      "text/html": [
       "<div>\n",
       "<style scoped>\n",
       "    .dataframe tbody tr th:only-of-type {\n",
       "        vertical-align: middle;\n",
       "    }\n",
       "\n",
       "    .dataframe tbody tr th {\n",
       "        vertical-align: top;\n",
       "    }\n",
       "\n",
       "    .dataframe thead th {\n",
       "        text-align: right;\n",
       "    }\n",
       "</style>\n",
       "<table border=\"1\" class=\"dataframe\">\n",
       "  <thead>\n",
       "    <tr style=\"text-align: right;\">\n",
       "      <th></th>\n",
       "      <th>Symbol</th>\n",
       "      <th>Security Name</th>\n",
       "      <th>Market Category</th>\n",
       "      <th>Test Issue</th>\n",
       "      <th>Financial Status</th>\n",
       "      <th>Round Lot Size</th>\n",
       "      <th>ETF</th>\n",
       "      <th>NextShares</th>\n",
       "    </tr>\n",
       "  </thead>\n",
       "  <tbody>\n",
       "    <tr>\n",
       "      <th>0</th>\n",
       "      <td>AACG</td>\n",
       "      <td>ATA Creativity Global - American Depositary Sh...</td>\n",
       "      <td>G</td>\n",
       "      <td>N</td>\n",
       "      <td>N</td>\n",
       "      <td>100.0</td>\n",
       "      <td>N</td>\n",
       "      <td>N</td>\n",
       "    </tr>\n",
       "    <tr>\n",
       "      <th>1</th>\n",
       "      <td>AAL</td>\n",
       "      <td>American Airlines Group, Inc. - Common Stock</td>\n",
       "      <td>Q</td>\n",
       "      <td>N</td>\n",
       "      <td>N</td>\n",
       "      <td>100.0</td>\n",
       "      <td>N</td>\n",
       "      <td>N</td>\n",
       "    </tr>\n",
       "    <tr>\n",
       "      <th>2</th>\n",
       "      <td>AAME</td>\n",
       "      <td>Atlantic American Corporation - Common Stock</td>\n",
       "      <td>G</td>\n",
       "      <td>N</td>\n",
       "      <td>N</td>\n",
       "      <td>100.0</td>\n",
       "      <td>N</td>\n",
       "      <td>N</td>\n",
       "    </tr>\n",
       "    <tr>\n",
       "      <th>3</th>\n",
       "      <td>AAOI</td>\n",
       "      <td>Applied Optoelectronics, Inc. - Common Stock</td>\n",
       "      <td>G</td>\n",
       "      <td>N</td>\n",
       "      <td>N</td>\n",
       "      <td>100.0</td>\n",
       "      <td>N</td>\n",
       "      <td>N</td>\n",
       "    </tr>\n",
       "    <tr>\n",
       "      <th>4</th>\n",
       "      <td>AAON</td>\n",
       "      <td>AAON, Inc. - Common Stock</td>\n",
       "      <td>Q</td>\n",
       "      <td>N</td>\n",
       "      <td>N</td>\n",
       "      <td>100.0</td>\n",
       "      <td>N</td>\n",
       "      <td>N</td>\n",
       "    </tr>\n",
       "  </tbody>\n",
       "</table>\n",
       "</div>"
      ],
      "text/plain": [
       "  Symbol                                      Security Name Market Category  \\\n",
       "0   AACG  ATA Creativity Global - American Depositary Sh...               G   \n",
       "1    AAL       American Airlines Group, Inc. - Common Stock               Q   \n",
       "2   AAME       Atlantic American Corporation - Common Stock               G   \n",
       "3   AAOI       Applied Optoelectronics, Inc. - Common Stock               G   \n",
       "4   AAON                          AAON, Inc. - Common Stock               Q   \n",
       "\n",
       "  Test Issue Financial Status  Round Lot Size ETF NextShares  \n",
       "0          N                N           100.0   N          N  \n",
       "1          N                N           100.0   N          N  \n",
       "2          N                N           100.0   N          N  \n",
       "3          N                N           100.0   N          N  \n",
       "4          N                N           100.0   N          N  "
      ]
     },
     "execution_count": 86,
     "metadata": {},
     "output_type": "execute_result"
    }
   ],
   "source": [
    "# Load list of NASDAQ stocks\n",
    "\n",
    "nasdaq_list_df = pd.read_csv('./data/nasdaqlisted.txt', sep='|')\n",
    "\n",
    "nasdaq_list_df.head()"
   ]
  },
  {
   "cell_type": "code",
   "execution_count": 887,
   "metadata": {},
   "outputs": [
    {
     "data": {
      "text/html": [
       "<div>\n",
       "<style scoped>\n",
       "    .dataframe tbody tr th:only-of-type {\n",
       "        vertical-align: middle;\n",
       "    }\n",
       "\n",
       "    .dataframe tbody tr th {\n",
       "        vertical-align: top;\n",
       "    }\n",
       "\n",
       "    .dataframe thead th {\n",
       "        text-align: right;\n",
       "    }\n",
       "</style>\n",
       "<table border=\"1\" class=\"dataframe\">\n",
       "  <thead>\n",
       "    <tr style=\"text-align: right;\">\n",
       "      <th></th>\n",
       "      <th>Symbol</th>\n",
       "      <th>Security Name</th>\n",
       "      <th>Market Category</th>\n",
       "      <th>Test Issue</th>\n",
       "      <th>Financial Status</th>\n",
       "      <th>Round Lot Size</th>\n",
       "      <th>ETF</th>\n",
       "      <th>NextShares</th>\n",
       "    </tr>\n",
       "  </thead>\n",
       "  <tbody>\n",
       "  </tbody>\n",
       "</table>\n",
       "</div>"
      ],
      "text/plain": [
       "Empty DataFrame\n",
       "Columns: [Symbol, Security Name, Market Category, Test Issue, Financial Status, Round Lot Size, ETF, NextShares]\n",
       "Index: []"
      ]
     },
     "execution_count": 887,
     "metadata": {},
     "output_type": "execute_result"
    }
   ],
   "source": [
    "# Select out ETFs\n",
    "\n",
    "nasdaq_list_df = nasdaq_list_df[nasdaq_list_df['ETF'] == 'N']\n",
    "\n",
    "# Check for missing data\n",
    "nasdaq_list_df[nasdaq_list_df.isnull().any(axis=1)]"
   ]
  },
  {
   "cell_type": "code",
   "execution_count": 888,
   "metadata": {},
   "outputs": [
    {
     "data": {
      "text/html": [
       "<div>\n",
       "<style scoped>\n",
       "    .dataframe tbody tr th:only-of-type {\n",
       "        vertical-align: middle;\n",
       "    }\n",
       "\n",
       "    .dataframe tbody tr th {\n",
       "        vertical-align: top;\n",
       "    }\n",
       "\n",
       "    .dataframe thead th {\n",
       "        text-align: right;\n",
       "    }\n",
       "</style>\n",
       "<table border=\"1\" class=\"dataframe\">\n",
       "  <thead>\n",
       "    <tr style=\"text-align: right;\">\n",
       "      <th></th>\n",
       "      <th>Symbol</th>\n",
       "      <th>Security Name</th>\n",
       "      <th>Market Category</th>\n",
       "      <th>Test Issue</th>\n",
       "      <th>Financial Status</th>\n",
       "      <th>Round Lot Size</th>\n",
       "      <th>ETF</th>\n",
       "      <th>NextShares</th>\n",
       "    </tr>\n",
       "  </thead>\n",
       "  <tbody>\n",
       "    <tr>\n",
       "      <th>1</th>\n",
       "      <td>AAL</td>\n",
       "      <td>American Airlines Group, Inc. - Common Stock</td>\n",
       "      <td>Q</td>\n",
       "      <td>N</td>\n",
       "      <td>N</td>\n",
       "      <td>100.0</td>\n",
       "      <td>N</td>\n",
       "      <td>N</td>\n",
       "    </tr>\n",
       "    <tr>\n",
       "      <th>2</th>\n",
       "      <td>AAME</td>\n",
       "      <td>Atlantic American Corporation - Common Stock</td>\n",
       "      <td>G</td>\n",
       "      <td>N</td>\n",
       "      <td>N</td>\n",
       "      <td>100.0</td>\n",
       "      <td>N</td>\n",
       "      <td>N</td>\n",
       "    </tr>\n",
       "    <tr>\n",
       "      <th>3</th>\n",
       "      <td>AAOI</td>\n",
       "      <td>Applied Optoelectronics, Inc. - Common Stock</td>\n",
       "      <td>G</td>\n",
       "      <td>N</td>\n",
       "      <td>N</td>\n",
       "      <td>100.0</td>\n",
       "      <td>N</td>\n",
       "      <td>N</td>\n",
       "    </tr>\n",
       "    <tr>\n",
       "      <th>4</th>\n",
       "      <td>AAON</td>\n",
       "      <td>AAON, Inc. - Common Stock</td>\n",
       "      <td>Q</td>\n",
       "      <td>N</td>\n",
       "      <td>N</td>\n",
       "      <td>100.0</td>\n",
       "      <td>N</td>\n",
       "      <td>N</td>\n",
       "    </tr>\n",
       "    <tr>\n",
       "      <th>5</th>\n",
       "      <td>AAPL</td>\n",
       "      <td>Apple Inc. - Common Stock</td>\n",
       "      <td>Q</td>\n",
       "      <td>N</td>\n",
       "      <td>N</td>\n",
       "      <td>100.0</td>\n",
       "      <td>N</td>\n",
       "      <td>N</td>\n",
       "    </tr>\n",
       "  </tbody>\n",
       "</table>\n",
       "</div>"
      ],
      "text/plain": [
       "  Symbol                                 Security Name Market Category  \\\n",
       "1    AAL  American Airlines Group, Inc. - Common Stock               Q   \n",
       "2   AAME  Atlantic American Corporation - Common Stock               G   \n",
       "3   AAOI  Applied Optoelectronics, Inc. - Common Stock               G   \n",
       "4   AAON                     AAON, Inc. - Common Stock               Q   \n",
       "5   AAPL                     Apple Inc. - Common Stock               Q   \n",
       "\n",
       "  Test Issue Financial Status  Round Lot Size ETF NextShares  \n",
       "1          N                N           100.0   N          N  \n",
       "2          N                N           100.0   N          N  \n",
       "3          N                N           100.0   N          N  \n",
       "4          N                N           100.0   N          N  \n",
       "5          N                N           100.0   N          N  "
      ]
     },
     "execution_count": 888,
     "metadata": {},
     "output_type": "execute_result"
    }
   ],
   "source": [
    "nasdaq_list_df.head()"
   ]
  },
  {
   "cell_type": "code",
   "execution_count": 476,
   "metadata": {},
   "outputs": [
    {
     "name": "stdout",
     "output_type": "stream",
     "text": [
      "  Symbol\n",
      "1    AAL\n",
      "2   AAME\n",
      "3   AAOI\n",
      "4   AAON\n",
      "5   AAPL\n"
     ]
    }
   ],
   "source": [
    "nasdaq_list_df = nasdaq_list_df[nasdaq_list_df['Security Name'].str.contains('Common Stock')]\n",
    "\n",
    "# Create a csv file with single column of stock tickers to use for downloading stock closing prices\n",
    "\n",
    "ticker_list_df = pd.DataFrame((nasdaq_list_df['Symbol']))\n",
    "print(ticker_list_df.head())\n",
    "\n",
    "# Output to csv file\n",
    "\n",
    "ticker_list_df.to_csv('ticker_list.csv', index=False, header=False)\n"
   ]
  },
  {
   "cell_type": "code",
   "execution_count": 889,
   "metadata": {},
   "outputs": [],
   "source": [
    "quotes_df = pd.read_csv('./data/quotes.csv')"
   ]
  },
  {
   "cell_type": "code",
   "execution_count": 890,
   "metadata": {},
   "outputs": [
    {
     "data": {
      "text/html": [
       "<div>\n",
       "<style scoped>\n",
       "    .dataframe tbody tr th:only-of-type {\n",
       "        vertical-align: middle;\n",
       "    }\n",
       "\n",
       "    .dataframe tbody tr th {\n",
       "        vertical-align: top;\n",
       "    }\n",
       "\n",
       "    .dataframe thead th {\n",
       "        text-align: right;\n",
       "    }\n",
       "</style>\n",
       "<table border=\"1\" class=\"dataframe\">\n",
       "  <thead>\n",
       "    <tr style=\"text-align: right;\">\n",
       "      <th>Date</th>\n",
       "      <th>Symbol</th>\n",
       "      <th>2019-11-15</th>\n",
       "      <th>2019-11-18</th>\n",
       "      <th>2019-11-19</th>\n",
       "      <th>2019-11-20</th>\n",
       "      <th>2019-11-21</th>\n",
       "      <th>2019-11-22</th>\n",
       "    </tr>\n",
       "  </thead>\n",
       "  <tbody>\n",
       "    <tr>\n",
       "      <th>0</th>\n",
       "      <td>AAL</td>\n",
       "      <td>28.860001</td>\n",
       "      <td>28.600000</td>\n",
       "      <td>29.290001</td>\n",
       "      <td>28.230000</td>\n",
       "      <td>27.930000</td>\n",
       "      <td>28.680000</td>\n",
       "    </tr>\n",
       "    <tr>\n",
       "      <th>1</th>\n",
       "      <td>AAME</td>\n",
       "      <td>1.750000</td>\n",
       "      <td>1.570000</td>\n",
       "      <td>1.720000</td>\n",
       "      <td>1.910000</td>\n",
       "      <td>2.000000</td>\n",
       "      <td>1.950000</td>\n",
       "    </tr>\n",
       "    <tr>\n",
       "      <th>2</th>\n",
       "      <td>AAOI</td>\n",
       "      <td>10.865000</td>\n",
       "      <td>10.540000</td>\n",
       "      <td>10.250000</td>\n",
       "      <td>10.280000</td>\n",
       "      <td>10.200000</td>\n",
       "      <td>10.240000</td>\n",
       "    </tr>\n",
       "    <tr>\n",
       "      <th>3</th>\n",
       "      <td>AAON</td>\n",
       "      <td>50.340000</td>\n",
       "      <td>50.250000</td>\n",
       "      <td>50.689999</td>\n",
       "      <td>49.540001</td>\n",
       "      <td>48.369999</td>\n",
       "      <td>48.389999</td>\n",
       "    </tr>\n",
       "    <tr>\n",
       "      <th>4</th>\n",
       "      <td>AAPL</td>\n",
       "      <td>265.760010</td>\n",
       "      <td>267.100006</td>\n",
       "      <td>266.290009</td>\n",
       "      <td>263.190002</td>\n",
       "      <td>262.010010</td>\n",
       "      <td>261.779999</td>\n",
       "    </tr>\n",
       "  </tbody>\n",
       "</table>\n",
       "</div>"
      ],
      "text/plain": [
       "Date Symbol  2019-11-15  2019-11-18  2019-11-19  2019-11-20  2019-11-21  \\\n",
       "0       AAL   28.860001   28.600000   29.290001   28.230000   27.930000   \n",
       "1      AAME    1.750000    1.570000    1.720000    1.910000    2.000000   \n",
       "2      AAOI   10.865000   10.540000   10.250000   10.280000   10.200000   \n",
       "3      AAON   50.340000   50.250000   50.689999   49.540001   48.369999   \n",
       "4      AAPL  265.760010  267.100006  266.290009  263.190002  262.010010   \n",
       "\n",
       "Date  2019-11-22  \n",
       "0      28.680000  \n",
       "1       1.950000  \n",
       "2      10.240000  \n",
       "3      48.389999  \n",
       "4     261.779999  "
      ]
     },
     "execution_count": 890,
     "metadata": {},
     "output_type": "execute_result"
    }
   ],
   "source": [
    "quotes_df.set_index('Date', inplace=True)\n",
    "quotes_df = quotes_df.transpose()\n",
    "quotes_df.reset_index(inplace=True)\n",
    "quotes_df.rename(columns = {'index':'Symbol'}, inplace = True)\n",
    "quotes_df.head()"
   ]
  },
  {
   "cell_type": "code",
   "execution_count": 891,
   "metadata": {},
   "outputs": [
    {
     "data": {
      "text/plain": [
       "0"
      ]
     },
     "execution_count": 891,
     "metadata": {},
     "output_type": "execute_result"
    }
   ],
   "source": [
    "# Remove stocks with value below $25\n",
    "\n",
    "quotes_df = quotes_df[quotes_df['2019-11-15'] > 25]\n",
    "\n",
    "# Check for missing values\n",
    "\n",
    "quotes_df.isnull().any().sum()"
   ]
  },
  {
   "cell_type": "code",
   "execution_count": 892,
   "metadata": {},
   "outputs": [],
   "source": [
    "# Calculate percentange change over timeframe\n",
    "\n",
    "quotes_df['percent change'] = (quotes_df['2019-11-22'] - quotes_df['2019-11-15'])/quotes_df['2019-11-15'] * 100"
   ]
  },
  {
   "cell_type": "code",
   "execution_count": 893,
   "metadata": {},
   "outputs": [
    {
     "data": {
      "text/html": [
       "<div>\n",
       "<style scoped>\n",
       "    .dataframe tbody tr th:only-of-type {\n",
       "        vertical-align: middle;\n",
       "    }\n",
       "\n",
       "    .dataframe tbody tr th {\n",
       "        vertical-align: top;\n",
       "    }\n",
       "\n",
       "    .dataframe thead th {\n",
       "        text-align: right;\n",
       "    }\n",
       "</style>\n",
       "<table border=\"1\" class=\"dataframe\">\n",
       "  <thead>\n",
       "    <tr style=\"text-align: right;\">\n",
       "      <th></th>\n",
       "      <th>Symbol</th>\n",
       "      <th>2019-11-15</th>\n",
       "      <th>2019-11-18</th>\n",
       "      <th>2019-11-19</th>\n",
       "      <th>2019-11-20</th>\n",
       "      <th>2019-11-21</th>\n",
       "      <th>2019-11-22</th>\n",
       "      <th>percent change</th>\n",
       "      <th>Security Name</th>\n",
       "    </tr>\n",
       "  </thead>\n",
       "  <tbody>\n",
       "    <tr>\n",
       "      <th>0</th>\n",
       "      <td>AAL</td>\n",
       "      <td>28.860001</td>\n",
       "      <td>28.600000</td>\n",
       "      <td>29.290001</td>\n",
       "      <td>28.230000</td>\n",
       "      <td>27.930000</td>\n",
       "      <td>28.680000</td>\n",
       "      <td>-0.623704</td>\n",
       "      <td>American Airlines Group</td>\n",
       "    </tr>\n",
       "    <tr>\n",
       "      <th>1</th>\n",
       "      <td>AAON</td>\n",
       "      <td>50.340000</td>\n",
       "      <td>50.250000</td>\n",
       "      <td>50.689999</td>\n",
       "      <td>49.540001</td>\n",
       "      <td>48.369999</td>\n",
       "      <td>48.389999</td>\n",
       "      <td>-3.873661</td>\n",
       "      <td>AAON</td>\n",
       "    </tr>\n",
       "    <tr>\n",
       "      <th>2</th>\n",
       "      <td>AAPL</td>\n",
       "      <td>265.760010</td>\n",
       "      <td>267.100006</td>\n",
       "      <td>266.290009</td>\n",
       "      <td>263.190002</td>\n",
       "      <td>262.010010</td>\n",
       "      <td>261.779999</td>\n",
       "      <td>-1.497596</td>\n",
       "      <td>Apple Inc.</td>\n",
       "    </tr>\n",
       "    <tr>\n",
       "      <th>3</th>\n",
       "      <td>AAWW</td>\n",
       "      <td>25.250000</td>\n",
       "      <td>25.049999</td>\n",
       "      <td>25.299999</td>\n",
       "      <td>24.389999</td>\n",
       "      <td>24.410000</td>\n",
       "      <td>25.010000</td>\n",
       "      <td>-0.950495</td>\n",
       "      <td>Atlas Air Worldwide Holdings</td>\n",
       "    </tr>\n",
       "    <tr>\n",
       "      <th>4</th>\n",
       "      <td>AAXN</td>\n",
       "      <td>67.370003</td>\n",
       "      <td>67.720001</td>\n",
       "      <td>68.480003</td>\n",
       "      <td>71.980003</td>\n",
       "      <td>71.900002</td>\n",
       "      <td>72.089996</td>\n",
       "      <td>7.006075</td>\n",
       "      <td>Axon Enterprise</td>\n",
       "    </tr>\n",
       "  </tbody>\n",
       "</table>\n",
       "</div>"
      ],
      "text/plain": [
       "  Symbol  2019-11-15  2019-11-18  2019-11-19  2019-11-20  2019-11-21  \\\n",
       "0    AAL   28.860001   28.600000   29.290001   28.230000   27.930000   \n",
       "1   AAON   50.340000   50.250000   50.689999   49.540001   48.369999   \n",
       "2   AAPL  265.760010  267.100006  266.290009  263.190002  262.010010   \n",
       "3   AAWW   25.250000   25.049999   25.299999   24.389999   24.410000   \n",
       "4   AAXN   67.370003   67.720001   68.480003   71.980003   71.900002   \n",
       "\n",
       "   2019-11-22  percent change                 Security Name  \n",
       "0   28.680000       -0.623704       American Airlines Group  \n",
       "1   48.389999       -3.873661                          AAON  \n",
       "2  261.779999       -1.497596                    Apple Inc.  \n",
       "3   25.010000       -0.950495  Atlas Air Worldwide Holdings  \n",
       "4   72.089996        7.006075               Axon Enterprise  "
      ]
     },
     "execution_count": 893,
     "metadata": {},
     "output_type": "execute_result"
    }
   ],
   "source": [
    "quotes_df = pd.merge(quotes_df, nasdaq_list_df[['Symbol', 'Security Name']], on = 'Symbol', how ='inner')\n",
    "quotes_df['Security Name'] = quotes_df['Security Name'].apply(lambda x: x.split(' -')[0].split(',')[0])\n",
    "\n",
    "quotes_df.head()"
   ]
  },
  {
   "cell_type": "code",
   "execution_count": 978,
   "metadata": {},
   "outputs": [
    {
     "data": {
      "text/plain": [
       "pandas.core.series.Series"
      ]
     },
     "execution_count": 978,
     "metadata": {},
     "output_type": "execute_result"
    }
   ],
   "source": [
    "negative_tickers = quotes_df.sort_values('percent change')['Symbol'][:30]\n",
    "negative_companies = quotes_df.sort_values('percent change')['Security Name'][:30]\n",
    "positive_tickers = quotes_df.sort_values('percent change', ascending=False)['Symbol'][:30]\n",
    "positive_companies = quotes_df.sort_values('percent change', ascending=False)['Security Name'][:30]\n",
    "\n",
    "type(negative_tickers)"
   ]
  },
  {
   "cell_type": "code",
   "execution_count": 895,
   "metadata": {},
   "outputs": [],
   "source": [
    "Twitter=pickle.load(open('secret_twitter_credentials.pkl','rb'))\n",
    "\n",
    "auth = twitter.oauth.OAuth(Twitter['Access Token'],\n",
    "                           Twitter['Access Token Secret'],\n",
    "                           Twitter['Consumer Key'],\n",
    "                           Twitter['Consumer Secret'])\n",
    "\n",
    "twitter_api = twitter.Twitter(auth=auth)"
   ]
  },
  {
   "cell_type": "code",
   "execution_count": 934,
   "metadata": {},
   "outputs": [],
   "source": [
    "positive_text = []\n",
    "number = 500\n",
    "\n",
    "for stock in positive_tickers:\n",
    "    q = stock\n",
    "    \n",
    "    search_results = twitter_api.search.tweets(q=q, count=number)\n",
    "\n",
    "    statuses = search_results['statuses']\n",
    "    for s in statuses:\n",
    "        symbol = s['entities']['symbols']\n",
    "        if len(symbol) == 1 and symbol[0]['text'] == stock:\n",
    "            if not s[\"text\"] in positive_text:\n",
    "                positive_text.append(s['text'])\n",
    "\n",
    "for company in positive_companies:\n",
    "    q = company\n",
    "    \n",
    "    search_results = twitter_api.search.tweets(q=q, count=number)\n",
    "\n",
    "    statuses = search_results['statuses']\n",
    "    for s in statuses:\n",
    "        if s['lang'] == 'en' and not s[\"text\"] in positive_text:\n",
    "            positive_text.append(s['text'])\n"
   ]
  },
  {
   "cell_type": "code",
   "execution_count": 936,
   "metadata": {},
   "outputs": [],
   "source": [
    "negative_text = []\n",
    "number = 500\n",
    "\n",
    "for stock in negative_tickers:\n",
    "    q = stock\n",
    "    \n",
    "    search_results = twitter_api.search.tweets(q=q, count=number)\n",
    "\n",
    "    statuses = search_results['statuses']\n",
    "    for s in statuses:\n",
    "        symbol = s['entities']['symbols']\n",
    "        if len(symbol) == 1 and symbol[0]['text'] == stock:\n",
    "            if not s[\"text\"] in negative_text:\n",
    "                negative_text.append(s['text'])\n",
    "\n",
    "for company in negative_companies:\n",
    "    q = company\n",
    "    \n",
    "    search_results = twitter_api.search.tweets(q=q, count=number)\n",
    "\n",
    "    statuses = search_results['statuses']\n",
    "    for s in statuses:\n",
    "        if s['lang'] == 'en' and not s[\"text\"] in negative_text:\n",
    "            negative_text.append(s['text'])"
   ]
  },
  {
   "cell_type": "code",
   "execution_count": 955,
   "metadata": {},
   "outputs": [],
   "source": [
    "# with open('positive_text.txt', 'w', encoding=\"utf-8\") as filehandle:\n",
    "#     for listitem in positive_text:\n",
    "#         filehandle.write(listitem)\n",
    "        \n",
    "# negative_text = []\n",
    "\n",
    "# # open file and read the content in a list\n",
    "# with open('negative_text.txt', 'r', encoding=\"utf-8\") as filehandle:\n",
    "#     for line in filehandle:\n",
    "#         # remove linebreak which is the last character of the string\n",
    "#         currentPlace = line[:-1]\n",
    "#         # add item to the list\n",
    "#         negative_text.append(currentPlace)\n",
    "        "
   ]
  },
  {
   "cell_type": "code",
   "execution_count": 921,
   "metadata": {},
   "outputs": [
    {
     "name": "stderr",
     "output_type": "stream",
     "text": [
      "[nltk_data] Downloading package punkt to\n",
      "[nltk_data]     C:\\Users\\qcsbo\\AppData\\Roaming\\nltk_data...\n",
      "[nltk_data]   Package punkt is already up-to-date!\n",
      "[nltk_data] Downloading package stopwords to\n",
      "[nltk_data]     C:\\Users\\qcsbo\\AppData\\Roaming\\nltk_data...\n",
      "[nltk_data]   Package stopwords is already up-to-date!\n"
     ]
    },
    {
     "data": {
      "text/plain": [
       "True"
      ]
     },
     "execution_count": 921,
     "metadata": {},
     "output_type": "execute_result"
    }
   ],
   "source": [
    "nltk.download(\"punkt\")\n",
    "nltk.download(\"stopwords\")"
   ]
  },
  {
   "cell_type": "code",
   "execution_count": 940,
   "metadata": {},
   "outputs": [
    {
     "name": "stdout",
     "output_type": "stream",
     "text": [
      "Number of positive features: 1486\n",
      "Number of negative features: 1300\n"
     ]
    }
   ],
   "source": [
    "useless_words = nltk.corpus.stopwords.words(\"english\") + list(string.punctuation)\n",
    "useless_words.extend(['https', 'http'])\n",
    "\n",
    "def bag_of_words_features(text):\n",
    "    return {word:1 for word in text if not word in useless_words\\\n",
    "           and '/' not in word}\n",
    "\n",
    "bag_of_words_features(nltk.word_tokenize(positive_text[0]))\n",
    "\n",
    "positive_features = [\n",
    "    (bag_of_words_features(nltk.word_tokenize(text)), 'pos') \\\n",
    "    for text in positive_text\n",
    "]\n",
    "\n",
    "negative_features = [\n",
    "    (bag_of_words_features(nltk.word_tokenize(text)), 'neg') \\\n",
    "    for text in negative_text\n",
    "]\n",
    "\n",
    "print(f'Number of positive features: {len(positive_features)}')\n",
    "print(f'Number of negative features: {len(negative_features)}')"
   ]
  },
  {
   "cell_type": "code",
   "execution_count": 974,
   "metadata": {},
   "outputs": [],
   "source": [
    "random.shuffle(positive_features)\n",
    "random.shuffle(negative_features)\n",
    "\n",
    "split = int(1300 * .8)\n",
    "sentiment_classifier = NaiveBayesClassifier.train(positive_features[:split]+negative_features[:split])"
   ]
  },
  {
   "cell_type": "code",
   "execution_count": 975,
   "metadata": {},
   "outputs": [
    {
     "data": {
      "text/plain": [
       "98.9423076923077"
      ]
     },
     "execution_count": 975,
     "metadata": {},
     "output_type": "execute_result"
    }
   ],
   "source": [
    "nltk.classify.util.accuracy(sentiment_classifier, positive_features[:split]+negative_features[:split])*100"
   ]
  },
  {
   "cell_type": "code",
   "execution_count": 976,
   "metadata": {},
   "outputs": [
    {
     "data": {
      "text/plain": [
       "94.19263456090651"
      ]
     },
     "execution_count": 976,
     "metadata": {},
     "output_type": "execute_result"
    }
   ],
   "source": [
    "nltk.classify.util.accuracy(sentiment_classifier, positive_features[split:]+negative_features[split:])*100"
   ]
  },
  {
   "cell_type": "code",
   "execution_count": 977,
   "metadata": {},
   "outputs": [
    {
     "name": "stdout",
     "output_type": "stream",
     "text": [
      "Most Informative Features\n",
      "         Pharmaceuticals = 1                 pos : neg    =     43.7 : 1.0\n",
      "                 changed = 1                 pos : neg    =     33.7 : 1.0\n",
      "               Materials = 1                 neg : pos    =     32.3 : 1.0\n",
      "                    UBSI = 1                 neg : pos    =     21.7 : 1.0\n",
      "                 Applied = 1                 neg : pos    =     19.4 : 1.0\n",
      "                    Care = 1                 pos : neg    =     18.3 : 1.0\n",
      "                     Key = 1                 pos : neg    =     17.0 : 1.0\n",
      "                  market = 1                 pos : neg    =     15.9 : 1.0\n",
      "                  Raised = 1                 pos : neg    =     11.0 : 1.0\n",
      "              Industries = 1                 neg : pos    =     11.0 : 1.0\n"
     ]
    }
   ],
   "source": [
    "sentiment_classifier.show_most_informative_features()"
   ]
  }
 ],
 "metadata": {
  "kernelspec": {
   "display_name": "Python 3",
   "language": "python",
   "name": "python3"
  },
  "language_info": {
   "codemirror_mode": {
    "name": "ipython",
    "version": 3
   },
   "file_extension": ".py",
   "mimetype": "text/x-python",
   "name": "python",
   "nbconvert_exporter": "python",
   "pygments_lexer": "ipython3",
   "version": "3.7.3"
  }
 },
 "nbformat": 4,
 "nbformat_minor": 2
}
